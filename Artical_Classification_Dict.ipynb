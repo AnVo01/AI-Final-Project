{
  "cells": [
    {
      "cell_type": "markdown",
      "metadata": {
        "id": "view-in-github",
        "colab_type": "text"
      },
      "source": [
        "<a href=\"https://colab.research.google.com/github/AnVo01/AI-Final-Project/blob/main/Artical_Classification_Dict.ipynb\" target=\"_parent\"><img src=\"https://colab.research.google.com/assets/colab-badge.svg\" alt=\"Open In Colab\"/></a>"
      ]
    },
    {
      "cell_type": "code",
      "execution_count": null,
      "metadata": {
        "id": "XB6O0xO2JGrj"
      },
      "outputs": [],
      "source": [
        "import keras\n",
        "import numpy as np\n",
        "import pandas as pd\n",
        "import re\n",
        "import os\n",
        "import string\n",
        "import matplotlib.pyplot as plt\n",
        "from sklearn.preprocessing import LabelEncoder\n",
        "from sklearn.model_selection import train_test_split\n",
        "from keras.preprocessing.text import Tokenizer\n",
        "from keras.preprocessing import sequence"
      ]
    },
    {
      "cell_type": "code",
      "source": [
        "dir = '/content/drive/MyDrive/Text_classification/Code_Built_Model/Viet74K.txt'\n",
        "file = open(dir,'r',encoding='utf-8')\n",
        "viet_dict = dict()\n",
        "\n",
        "for word in file:\n",
        "  word = re.sub(r'[\\n]', '', word)\n",
        "  if word not in viet_dict:\n",
        "    viet_dict[word] = len(viet_dict)"
      ],
      "metadata": {
        "id": "75Y9ZpexGPfL"
      },
      "execution_count": null,
      "outputs": []
    },
    {
      "cell_type": "code",
      "execution_count": null,
      "metadata": {
        "id": "tOjDE0nWJJAl"
      },
      "outputs": [],
      "source": [
        "def tachtu(text, dict):\n",
        "  input = text.split(\" \")\n",
        "  words = []\n",
        "  start = 0\n",
        "  while True:\n",
        "    end = len(input)\n",
        "    while end > start: #e>s khi còn từ\n",
        "      sentence = input[start:end]\n",
        "      sentence = \" \".join(sentence)\n",
        "      end = end-1 \n",
        "      if sentence.lower() in viet_dict:\n",
        "        words.append(sentence)\n",
        "        break\n",
        "    start = end + 1  \n",
        "    if start == len(input):\n",
        "      break\n",
        "  output = []\n",
        "  for word in words:\n",
        "    word = re.sub(r'[ ]', '_', word)\n",
        "    output.append(word)\n",
        "  output = \" \".join(output)\n",
        "  return output\n",
        "\n",
        "special_character = ['0','1','2','3','4','5','6','7','8','9','!','@','#','$','%','^','&','*','(',')','-','=','+','\\n','\\t',':',';',',','.','|','\"','/','\\'']\n",
        "def xoa_kyhieu(s):\n",
        "  b = []\n",
        "  for word in s.split():\n",
        "    a = []\n",
        "    for letter in word:\n",
        "      if letter not in special_character:\n",
        "        a.append(letter)\n",
        "    mystring = \"\".join([str(char) for char in a])\n",
        "    if mystring != \"\":\n",
        "      b.append(mystring)\n",
        "  mystringfinal = \" \".join([str(char) for char in b])\n",
        "  return mystringfinal\n",
        "\n",
        "stopword = ['a_lô']\n",
        "def create_stopword(path):\n",
        "  with open(path, encoding=\"utf-8\") as words:\n",
        "    return [w[:len(w) - 1] for w in words] + stopword\n",
        "\n",
        "stop_words = create_stopword('/content/drive/MyDrive/Text_classification/Code_Built_Model/stop_word.txt')\n",
        "\n",
        "def xoa_dau(s):\n",
        "    s = re.sub(r'[àáạảãâầấậẩẫăằắặẳẵ]', 'a', s)\n",
        "    s = re.sub(r'[ÀÁẠẢÃĂẰẮẶẲẴÂẦẤẬẨẪ]', 'A', s)\n",
        "    s = re.sub(r'[èéẹẻẽêềếệểễ]', 'e', s)\n",
        "    s = re.sub(r'[ÈÉẸẺẼÊỀẾỆỂỄ]', 'E', s)\n",
        "    s = re.sub(r'[òóọỏõôồốộổỗơờớợởỡ]', 'o', s)\n",
        "    s = re.sub(r'[ÒÓỌỎÕÔỒỐỘỔỖƠỜỚỢỞỠ]', 'O', s)\n",
        "    s = re.sub(r'[ìíịỉĩ]', 'i', s)\n",
        "    s = re.sub(r'[ÌÍỊỈĨ]', 'I', s)\n",
        "    s = re.sub(r'[ùúụủũưừứựửữ]', 'u', s)\n",
        "    s = re.sub(r'[ƯỪỨỰỬỮÙÚỤỦŨ]', 'U', s)\n",
        "    s = re.sub(r'[ỳýỵỷỹ]', 'y', s)\n",
        "    s = re.sub(r'[ỲÝỴỶỸ]', 'Y', s)\n",
        "    s = re.sub(r'[Đ]', 'D', s)\n",
        "    s = re.sub(r'[đ]', 'd', s)\n",
        "    return s\n",
        "\n",
        "def xuly(s):\n",
        "  s = xoa_kyhieu(s)\n",
        "  s = tachtu(s,viet_dict)\n",
        "  s = [word for word in s.lower().split() if word not in stop_words]\n",
        "  s = \" \".join(s)\n",
        "  s = xoa_dau(s)\n",
        "  return s"
      ]
    },
    {
      "cell_type": "code",
      "execution_count": null,
      "metadata": {
        "colab": {
          "base_uri": "https://localhost:8080/"
        },
        "id": "h4JI73SQJZET",
        "outputId": "894be4ac-825a-4fa5-9588-6f7a36e5623f"
      },
      "outputs": [
        {
          "output_type": "stream",
          "name": "stdout",
          "text": [
            "TP HCM Phố cà phê Tân Bình nóng theo từng đường bóng đá\n"
          ]
        }
      ],
      "source": [
        "s = \"TP HCM: Phố @cà phê% Tân 100% Bình 'nóng' ^theo^ từng đường bóng đá\"\n",
        "print(xoa_kyhieu(s))"
      ]
    },
    {
      "cell_type": "code",
      "source": [
        "s = \"TP HCM Phố cà phê Tân Bình nóng theo từng đường bóng đá\"\n",
        "print(tachtu(s,viet_dict))"
      ],
      "metadata": {
        "colab": {
          "base_uri": "https://localhost:8080/"
        },
        "id": "Du27oysvcrrs",
        "outputId": "25385fa4-678a-4d05-8d94-5ee846d1b896"
      },
      "execution_count": null,
      "outputs": [
        {
          "output_type": "stream",
          "name": "stdout",
          "text": [
            "Phố cà_phê Tân Bình nóng theo từng đường bóng_đá\n"
          ]
        }
      ]
    },
    {
      "cell_type": "code",
      "source": [
        "s = \"TP HCM Phố cà_phê Tân_Bình nóng theo từng đường bóng_đá\"\n",
        "print(xoa_dau(s))"
      ],
      "metadata": {
        "colab": {
          "base_uri": "https://localhost:8080/"
        },
        "id": "1Y3djsSPjRi-",
        "outputId": "426c0d96-2527-4c29-d252-9ec5b1b327ac"
      },
      "execution_count": null,
      "outputs": [
        {
          "output_type": "stream",
          "name": "stdout",
          "text": [
            "TP HCM Pho ca_phe Tan_Binh nong theo tung duong bong_da\n"
          ]
        }
      ]
    },
    {
      "cell_type": "code",
      "source": [
        "s = \"TP HCM Pho ca_phe Tan_Binh nong theo tung duong bong_da\"\n",
        "print([word for word in s.lower().split() if word not in stop_words])"
      ],
      "metadata": {
        "colab": {
          "base_uri": "https://localhost:8080/"
        },
        "id": "MCnLCYI-jqBU",
        "outputId": "9949e992-c70e-4c74-f685-f6b0c661a9a4"
      },
      "execution_count": null,
      "outputs": [
        {
          "output_type": "stream",
          "name": "stdout",
          "text": [
            "['tp', 'hcm', 'ca_phe', 'tan_binh', 'nong', 'tung', 'duong', 'bong_da']\n"
          ]
        }
      ]
    },
    {
      "cell_type": "code",
      "source": [
        "s = \"TP HCM: Phố @cà phê% Tân 100% Bình 'nóng' ^theo^ từng đường bóng đá\"\n",
        "print(xuly(s))"
      ],
      "metadata": {
        "colab": {
          "base_uri": "https://localhost:8080/"
        },
        "id": "uChXtQ8mrcZF",
        "outputId": "2203f42d-a66d-4235-dcc6-7c2f56f7e63d"
      },
      "execution_count": null,
      "outputs": [
        {
          "output_type": "stream",
          "name": "stdout",
          "text": [
            "pho ca_phe tan binh nong duong bong_da h\n"
          ]
        }
      ]
    },
    {
      "cell_type": "code",
      "execution_count": null,
      "metadata": {
        "id": "l3KfQhN70ZFx"
      },
      "outputs": [],
      "source": [
        "data = pd.DataFrame({'content':[],'class': []})\n",
        "dir = '/content/drive/MyDrive/Text_classification/Code_Built_Model/dataset'\n",
        "for i in os.listdir(dir):\n",
        "  for j in os.listdir(dir+ '/' +i):\n",
        "    file = open(dir+ '/' + i + '/' + j,'r',encoding='utf-16')\n",
        "    for k in range(2):\n",
        "      d1 = file.readline()\n",
        "      d2 = file.readline()\n",
        "      d = xuly(d1+d2)\n",
        "      if d != \"\":\n",
        "        data = data.append({'content': d,'class':i},ignore_index=True)"
      ]
    },
    {
      "cell_type": "code",
      "execution_count": null,
      "metadata": {
        "colab": {
          "base_uri": "https://localhost:8080/",
          "height": 424
        },
        "id": "Ju08N9rt5W4Y",
        "outputId": "e465fac1-31ba-4ff2-98b0-ec1b056e545b"
      },
      "outputs": [
        {
          "output_type": "execute_result",
          "data": {
            "text/plain": [
              "                                                 content             class\n",
              "0      phong_van du_hoc nhat truong nhat ngu to_chuc ...  Chinh_tri_Xa_hoi\n",
              "1      phong_van h van_phong cong_ty giao_duc dao_tao...  Chinh_tri_Xa_hoi\n",
              "2      hoc_bong my cong_ty duc hoc_bong nam_hoc nganh...  Chinh_tri_Xa_hoi\n",
              "3      du_hoc mien dich_vu phi phi thu moi hoc visa t...  Chinh_tri_Xa_hoi\n",
              "4      hoi_thao du_hoc ron giam_doc marketing gioi_th...  Chinh_tri_Xa_hoi\n",
              "...                                                  ...               ...\n",
              "83792  van_ban thuc_thi thua thao thong_bao gui nghe_...           Van_hoa\n",
              "83793  nhac_si duong thu ban doi_song am_nhac my linh...           Van_hoa\n",
              "83794  mua hong_nhung dau_hieu chung hat nghe_thuat t...           Van_hoa\n",
              "83795  mua len trau cong_chieu my phim mua len trau h...           Van_hoa\n",
              "83796  chieu dao_dien viet_kieu nghiem_minh gioi_thie...           Van_hoa\n",
              "\n",
              "[83797 rows x 2 columns]"
            ],
            "text/html": [
              "\n",
              "  <div id=\"df-60f80220-63cb-41ba-acf9-23b755863688\">\n",
              "    <div class=\"colab-df-container\">\n",
              "      <div>\n",
              "<style scoped>\n",
              "    .dataframe tbody tr th:only-of-type {\n",
              "        vertical-align: middle;\n",
              "    }\n",
              "\n",
              "    .dataframe tbody tr th {\n",
              "        vertical-align: top;\n",
              "    }\n",
              "\n",
              "    .dataframe thead th {\n",
              "        text-align: right;\n",
              "    }\n",
              "</style>\n",
              "<table border=\"1\" class=\"dataframe\">\n",
              "  <thead>\n",
              "    <tr style=\"text-align: right;\">\n",
              "      <th></th>\n",
              "      <th>content</th>\n",
              "      <th>class</th>\n",
              "    </tr>\n",
              "  </thead>\n",
              "  <tbody>\n",
              "    <tr>\n",
              "      <th>0</th>\n",
              "      <td>phong_van du_hoc nhat truong nhat ngu to_chuc ...</td>\n",
              "      <td>Chinh_tri_Xa_hoi</td>\n",
              "    </tr>\n",
              "    <tr>\n",
              "      <th>1</th>\n",
              "      <td>phong_van h van_phong cong_ty giao_duc dao_tao...</td>\n",
              "      <td>Chinh_tri_Xa_hoi</td>\n",
              "    </tr>\n",
              "    <tr>\n",
              "      <th>2</th>\n",
              "      <td>hoc_bong my cong_ty duc hoc_bong nam_hoc nganh...</td>\n",
              "      <td>Chinh_tri_Xa_hoi</td>\n",
              "    </tr>\n",
              "    <tr>\n",
              "      <th>3</th>\n",
              "      <td>du_hoc mien dich_vu phi phi thu moi hoc visa t...</td>\n",
              "      <td>Chinh_tri_Xa_hoi</td>\n",
              "    </tr>\n",
              "    <tr>\n",
              "      <th>4</th>\n",
              "      <td>hoi_thao du_hoc ron giam_doc marketing gioi_th...</td>\n",
              "      <td>Chinh_tri_Xa_hoi</td>\n",
              "    </tr>\n",
              "    <tr>\n",
              "      <th>...</th>\n",
              "      <td>...</td>\n",
              "      <td>...</td>\n",
              "    </tr>\n",
              "    <tr>\n",
              "      <th>83792</th>\n",
              "      <td>van_ban thuc_thi thua thao thong_bao gui nghe_...</td>\n",
              "      <td>Van_hoa</td>\n",
              "    </tr>\n",
              "    <tr>\n",
              "      <th>83793</th>\n",
              "      <td>nhac_si duong thu ban doi_song am_nhac my linh...</td>\n",
              "      <td>Van_hoa</td>\n",
              "    </tr>\n",
              "    <tr>\n",
              "      <th>83794</th>\n",
              "      <td>mua hong_nhung dau_hieu chung hat nghe_thuat t...</td>\n",
              "      <td>Van_hoa</td>\n",
              "    </tr>\n",
              "    <tr>\n",
              "      <th>83795</th>\n",
              "      <td>mua len trau cong_chieu my phim mua len trau h...</td>\n",
              "      <td>Van_hoa</td>\n",
              "    </tr>\n",
              "    <tr>\n",
              "      <th>83796</th>\n",
              "      <td>chieu dao_dien viet_kieu nghiem_minh gioi_thie...</td>\n",
              "      <td>Van_hoa</td>\n",
              "    </tr>\n",
              "  </tbody>\n",
              "</table>\n",
              "<p>83797 rows × 2 columns</p>\n",
              "</div>\n",
              "      <button class=\"colab-df-convert\" onclick=\"convertToInteractive('df-60f80220-63cb-41ba-acf9-23b755863688')\"\n",
              "              title=\"Convert this dataframe to an interactive table.\"\n",
              "              style=\"display:none;\">\n",
              "        \n",
              "  <svg xmlns=\"http://www.w3.org/2000/svg\" height=\"24px\"viewBox=\"0 0 24 24\"\n",
              "       width=\"24px\">\n",
              "    <path d=\"M0 0h24v24H0V0z\" fill=\"none\"/>\n",
              "    <path d=\"M18.56 5.44l.94 2.06.94-2.06 2.06-.94-2.06-.94-.94-2.06-.94 2.06-2.06.94zm-11 1L8.5 8.5l.94-2.06 2.06-.94-2.06-.94L8.5 2.5l-.94 2.06-2.06.94zm10 10l.94 2.06.94-2.06 2.06-.94-2.06-.94-.94-2.06-.94 2.06-2.06.94z\"/><path d=\"M17.41 7.96l-1.37-1.37c-.4-.4-.92-.59-1.43-.59-.52 0-1.04.2-1.43.59L10.3 9.45l-7.72 7.72c-.78.78-.78 2.05 0 2.83L4 21.41c.39.39.9.59 1.41.59.51 0 1.02-.2 1.41-.59l7.78-7.78 2.81-2.81c.8-.78.8-2.07 0-2.86zM5.41 20L4 18.59l7.72-7.72 1.47 1.35L5.41 20z\"/>\n",
              "  </svg>\n",
              "      </button>\n",
              "      \n",
              "  <style>\n",
              "    .colab-df-container {\n",
              "      display:flex;\n",
              "      flex-wrap:wrap;\n",
              "      gap: 12px;\n",
              "    }\n",
              "\n",
              "    .colab-df-convert {\n",
              "      background-color: #E8F0FE;\n",
              "      border: none;\n",
              "      border-radius: 50%;\n",
              "      cursor: pointer;\n",
              "      display: none;\n",
              "      fill: #1967D2;\n",
              "      height: 32px;\n",
              "      padding: 0 0 0 0;\n",
              "      width: 32px;\n",
              "    }\n",
              "\n",
              "    .colab-df-convert:hover {\n",
              "      background-color: #E2EBFA;\n",
              "      box-shadow: 0px 1px 2px rgba(60, 64, 67, 0.3), 0px 1px 3px 1px rgba(60, 64, 67, 0.15);\n",
              "      fill: #174EA6;\n",
              "    }\n",
              "\n",
              "    [theme=dark] .colab-df-convert {\n",
              "      background-color: #3B4455;\n",
              "      fill: #D2E3FC;\n",
              "    }\n",
              "\n",
              "    [theme=dark] .colab-df-convert:hover {\n",
              "      background-color: #434B5C;\n",
              "      box-shadow: 0px 1px 3px 1px rgba(0, 0, 0, 0.15);\n",
              "      filter: drop-shadow(0px 1px 2px rgba(0, 0, 0, 0.3));\n",
              "      fill: #FFFFFF;\n",
              "    }\n",
              "  </style>\n",
              "\n",
              "      <script>\n",
              "        const buttonEl =\n",
              "          document.querySelector('#df-60f80220-63cb-41ba-acf9-23b755863688 button.colab-df-convert');\n",
              "        buttonEl.style.display =\n",
              "          google.colab.kernel.accessAllowed ? 'block' : 'none';\n",
              "\n",
              "        async function convertToInteractive(key) {\n",
              "          const element = document.querySelector('#df-60f80220-63cb-41ba-acf9-23b755863688');\n",
              "          const dataTable =\n",
              "            await google.colab.kernel.invokeFunction('convertToInteractive',\n",
              "                                                     [key], {});\n",
              "          if (!dataTable) return;\n",
              "\n",
              "          const docLinkHtml = 'Like what you see? Visit the ' +\n",
              "            '<a target=\"_blank\" href=https://colab.research.google.com/notebooks/data_table.ipynb>data table notebook</a>'\n",
              "            + ' to learn more about interactive tables.';\n",
              "          element.innerHTML = '';\n",
              "          dataTable['output_type'] = 'display_data';\n",
              "          await google.colab.output.renderOutput(dataTable, element);\n",
              "          const docLink = document.createElement('div');\n",
              "          docLink.innerHTML = docLinkHtml;\n",
              "          element.appendChild(docLink);\n",
              "        }\n",
              "      </script>\n",
              "    </div>\n",
              "  </div>\n",
              "  "
            ]
          },
          "metadata": {},
          "execution_count": 11
        }
      ],
      "source": [
        "data"
      ]
    },
    {
      "cell_type": "code",
      "execution_count": null,
      "metadata": {
        "id": "fCALT-iRvm0k",
        "colab": {
          "base_uri": "https://localhost:8080/",
          "height": 460
        },
        "outputId": "cfdf32c5-5253-4fca-fedd-a10d8491b890"
      },
      "outputs": [
        {
          "output_type": "execute_result",
          "data": {
            "text/plain": [
              "<matplotlib.axes._subplots.AxesSubplot at 0x7f1208764050>"
            ]
          },
          "metadata": {},
          "execution_count": 4
        },
        {
          "output_type": "display_data",
          "data": {
            "text/plain": [
              "<Figure size 1080x504 with 1 Axes>"
            ],
            "image/png": "[encoded data removed]"
          },
          "metadata": {
            "needs_background": "light"
          }
        }
      ],
      "source": [
        "import seaborn as sns\n",
        "data = pd.read_csv('/content/drive/MyDrive/Text_classification/Code_Built_Model/artical_classification.csv')\n",
        "plt.subplots(figsize = (15,7))\n",
        "sns.countplot(x=data['class'])"
      ]
    },
    {
      "cell_type": "code",
      "execution_count": null,
      "metadata": {
        "id": "-cfj1q1SNvvD"
      },
      "outputs": [],
      "source": [
        "data.to_csv('/content/drive/MyDrive/Text_classification/Code_Built_Model/artical_classification.csv',encoding='utf-8')"
      ]
    },
    {
      "cell_type": "code",
      "execution_count": null,
      "metadata": {
        "colab": {
          "base_uri": "https://localhost:8080/"
        },
        "id": "4kD4IREHPWR_",
        "outputId": "3652cf01-cf0f-43cd-ea05-db8c38475ad4"
      },
      "outputs": [
        {
          "output_type": "stream",
          "name": "stdout",
          "text": [
            "(83797, 3)\n"
          ]
        }
      ],
      "source": [
        "data = pd.read_csv('/content/drive/MyDrive/Text_classification/Code_Built_Model/artical_classification.csv')\n",
        "print(data.shape)\n",
        "cs = data['content'].values.tolist()"
      ]
    },
    {
      "cell_type": "code",
      "execution_count": null,
      "metadata": {
        "id": "iFkIQPjfQ0CR"
      },
      "outputs": [],
      "source": [
        "word_dict = dict()\n",
        "max_num = 0\n",
        "\n",
        "for sentence in cs:\n",
        "  for word in (sentence.lower()).split():\n",
        "    if word not in word_dict:\n",
        "      word_dict[word] = len(word_dict)\n",
        "  if len(sentence) > max_num:\n",
        "    max_num = len(sentence)"
      ]
    },
    {
      "cell_type": "code",
      "source": [
        "import pickle\n",
        "a_file = open(\"/content/drive/MyDrive/Text_classification/Code_Built_Model/word_dict.pkl\", \"wb\")\n",
        "pickle.dump(word_dict, a_file)\n",
        "a_file.close()"
      ],
      "metadata": {
        "id": "HGgirMSD_14w"
      },
      "execution_count": null,
      "outputs": []
    },
    {
      "cell_type": "code",
      "source": [
        "import pickle\n",
        "dictfile = open(\"/content/drive/MyDrive/Text_classification/Code_Built_Model/word_dict.pkl\",'rb')\n",
        "word_dict = pickle.load(dictfile)\n",
        "dictfile.close()\n",
        "max_num = 3987"
      ],
      "metadata": {
        "id": "SEtIOvZaAeXl"
      },
      "execution_count": 1,
      "outputs": []
    },
    {
      "cell_type": "code",
      "execution_count": 5,
      "metadata": {
        "colab": {
          "base_uri": "https://localhost:8080/"
        },
        "id": "Xu_APusBRNUi",
        "outputId": "af367df9-5fa1-4150-c10c-0b4f1bd480e4"
      },
      "outputs": [
        {
          "output_type": "stream",
          "name": "stdout",
          "text": [
            "26719\n",
            "3987\n"
          ]
        }
      ],
      "source": [
        "print(len(word_dict))\n",
        "print(max_num)"
      ]
    },
    {
      "cell_type": "code",
      "execution_count": null,
      "metadata": {
        "id": "Ho1nLeKGS-kW"
      },
      "outputs": [],
      "source": [
        "from tensorflow.keras.utils import to_categorical\n",
        "X = []\n",
        "Y = []\n",
        "X = [[word_dict[word] for word in line.split() if len(word)>1] for line in cs]\n",
        "X = sequence.pad_sequences(X, max_num)\n",
        "Y = data['class']\n",
        "label_encode = LabelEncoder()\n",
        "Y = label_encode.fit_transform(Y)\n",
        "Y_train = to_categorical(Y, num_classes=10)"
      ]
    },
    {
      "cell_type": "code",
      "execution_count": null,
      "metadata": {
        "colab": {
          "base_uri": "https://localhost:8080/"
        },
        "id": "YHyB2B5QTRWl",
        "outputId": "8ff5fe06-3e88-4f0f-c296-4beac6d5525d"
      },
      "outputs": [
        {
          "output_type": "stream",
          "name": "stdout",
          "text": [
            "(83797, 3987)\n",
            "(83797, 10)\n",
            "[ 0  0  0 ... 90 91 92]\n",
            "[1. 0. 0. 0. 0. 0. 0. 0. 0. 0.]\n"
          ]
        }
      ],
      "source": [
        "print(X.shape)\n",
        "print(Y_train.shape)\n",
        "print(X[5])\n",
        "print(Y_train[5])"
      ]
    },
    {
      "cell_type": "code",
      "execution_count": null,
      "metadata": {
        "id": "qYxfviPSTUCE"
      },
      "outputs": [],
      "source": [
        "X_train, X_test, y_train, y_test = train_test_split(X, Y_train, test_size = 0.15, random_state=5)"
      ]
    },
    {
      "cell_type": "code",
      "execution_count": null,
      "metadata": {
        "colab": {
          "base_uri": "https://localhost:8080/"
        },
        "id": "Fv98sOylTYE0",
        "outputId": "3b95f50d-f8a4-483a-f671-2f52e32acd9a"
      },
      "outputs": [
        {
          "output_type": "stream",
          "name": "stdout",
          "text": [
            "(71227, 3987)\n",
            "(12570, 3987)\n"
          ]
        }
      ],
      "source": [
        "print(X_train.shape)\n",
        "print(X_test.shape)"
      ]
    },
    {
      "cell_type": "code",
      "execution_count": null,
      "metadata": {
        "colab": {
          "base_uri": "https://localhost:8080/"
        },
        "id": "yx-VCxReTc-N",
        "outputId": "01d825d3-42af-4517-ab2f-b74d952e1128"
      },
      "outputs": [
        {
          "output_type": "stream",
          "name": "stdout",
          "text": [
            "Model: \"sequential\"\n",
            "_________________________________________________________________\n",
            " Layer (type)                Output Shape              Param #   \n",
            "=================================================================\n",
            " embedding (Embedding)       (None, 3987, 300)         8015700   \n",
            "                                                                 \n",
            " global_average_pooling1d (G  (None, 300)              0         \n",
            " lobalAveragePooling1D)                                          \n",
            "                                                                 \n",
            " dropout (Dropout)           (None, 300)               0         \n",
            "                                                                 \n",
            " dense (Dense)               (None, 10)                3010      \n",
            "                                                                 \n",
            "=================================================================\n",
            "Total params: 8,018,710\n",
            "Trainable params: 8,018,710\n",
            "Non-trainable params: 0\n",
            "_________________________________________________________________\n"
          ]
        }
      ],
      "source": [
        "from keras.models import Sequential\n",
        "from keras.layers import Dense, Embedding, Dropout,GlobalAveragePooling1D\n",
        "\n",
        "model = Sequential()\n",
        "model.add(Embedding(len(word_dict),300, input_length=max_num))\n",
        "model.add(GlobalAveragePooling1D())\n",
        "model.add(Dropout(0.2))\n",
        "model.add(Dense(10,activation=\"softmax\"))\n",
        "model.summary()"
      ]
    },
    {
      "cell_type": "code",
      "execution_count": null,
      "metadata": {
        "id": "E9dEehnJTiIO"
      },
      "outputs": [],
      "source": [
        "model.compile(loss='categorical_crossentropy', optimizer='adam',metrics=['accuracy'])"
      ]
    },
    {
      "cell_type": "code",
      "execution_count": null,
      "metadata": {
        "colab": {
          "base_uri": "https://localhost:8080/"
        },
        "id": "FzpWVKpBTkAk",
        "outputId": "e9314837-49b8-44fd-ab37-960b6f49e013"
      },
      "outputs": [
        {
          "output_type": "stream",
          "name": "stdout",
          "text": [
            "Epoch 1/30\n",
            "557/557 [==============================] - 361s 644ms/step - loss: 2.2992 - accuracy: 0.1192 - val_loss: 2.2920 - val_accuracy: 0.1182\n",
            "Epoch 2/30\n",
            "557/557 [==============================] - 359s 645ms/step - loss: 2.2721 - accuracy: 0.2022 - val_loss: 2.2377 - val_accuracy: 0.3733\n",
            "Epoch 3/30\n",
            "557/557 [==============================] - 376s 676ms/step - loss: 2.1697 - accuracy: 0.3793 - val_loss: 2.0824 - val_accuracy: 0.4158\n",
            "Epoch 4/30\n",
            "557/557 [==============================] - 397s 713ms/step - loss: 1.9645 - accuracy: 0.5272 - val_loss: 1.8431 - val_accuracy: 0.6407\n",
            "Epoch 5/30\n",
            "557/557 [==============================] - 367s 659ms/step - loss: 1.7161 - accuracy: 0.6367 - val_loss: 1.5951 - val_accuracy: 0.6967\n",
            "Epoch 6/30\n",
            "557/557 [==============================] - 385s 690ms/step - loss: 1.4850 - accuracy: 0.6858 - val_loss: 1.3857 - val_accuracy: 0.7009\n",
            "Epoch 7/30\n",
            "557/557 [==============================] - 370s 665ms/step - loss: 1.2878 - accuracy: 0.7295 - val_loss: 1.2093 - val_accuracy: 0.7414\n",
            "Epoch 8/30\n",
            "557/557 [==============================] - 367s 660ms/step - loss: 1.1311 - accuracy: 0.7515 - val_loss: 1.0741 - val_accuracy: 0.7579\n",
            "Epoch 9/30\n",
            "557/557 [==============================] - 388s 696ms/step - loss: 1.0084 - accuracy: 0.7685 - val_loss: 0.9662 - val_accuracy: 0.7738\n",
            "Epoch 10/30\n",
            "557/557 [==============================] - 375s 674ms/step - loss: 0.9131 - accuracy: 0.7824 - val_loss: 0.8842 - val_accuracy: 0.7839\n",
            "Epoch 11/30\n",
            "557/557 [==============================] - 378s 679ms/step - loss: 0.8392 - accuracy: 0.7921 - val_loss: 0.8297 - val_accuracy: 0.7877\n",
            "Epoch 12/30\n",
            "557/557 [==============================] - 377s 677ms/step - loss: 0.7796 - accuracy: 0.8034 - val_loss: 0.7698 - val_accuracy: 0.8039\n",
            "Epoch 13/30\n",
            "557/557 [==============================] - 412s 740ms/step - loss: 0.7326 - accuracy: 0.8089 - val_loss: 0.7385 - val_accuracy: 0.8064\n",
            "Epoch 14/30\n",
            "557/557 [==============================] - 404s 726ms/step - loss: 0.6956 - accuracy: 0.8137 - val_loss: 0.7134 - val_accuracy: 0.8013\n",
            "Epoch 15/30\n",
            "557/557 [==============================] - 382s 687ms/step - loss: 0.6633 - accuracy: 0.8199 - val_loss: 0.6833 - val_accuracy: 0.8083\n",
            "Epoch 16/30\n",
            "557/557 [==============================] - 380s 682ms/step - loss: 0.6372 - accuracy: 0.8245 - val_loss: 0.6624 - val_accuracy: 0.8165\n",
            "Epoch 17/30\n",
            "557/557 [==============================] - 367s 660ms/step - loss: 0.6139 - accuracy: 0.8287 - val_loss: 0.6405 - val_accuracy: 0.8255\n",
            "Epoch 18/30\n",
            "557/557 [==============================] - 385s 691ms/step - loss: 0.5937 - accuracy: 0.8340 - val_loss: 0.6372 - val_accuracy: 0.8183\n",
            "Epoch 19/30\n",
            "557/557 [==============================] - 398s 715ms/step - loss: 0.5759 - accuracy: 0.8362 - val_loss: 0.6185 - val_accuracy: 0.8264\n",
            "Epoch 20/30\n",
            "557/557 [==============================] - 376s 675ms/step - loss: 0.5601 - accuracy: 0.8402 - val_loss: 0.6053 - val_accuracy: 0.8294\n",
            "Epoch 21/30\n",
            "557/557 [==============================] - 364s 653ms/step - loss: 0.5455 - accuracy: 0.8425 - val_loss: 0.5949 - val_accuracy: 0.8322\n",
            "Epoch 22/30\n",
            "557/557 [==============================] - 374s 672ms/step - loss: 0.5330 - accuracy: 0.8447 - val_loss: 0.5935 - val_accuracy: 0.8332\n",
            "Epoch 23/30\n",
            "557/557 [==============================] - 381s 684ms/step - loss: 0.5190 - accuracy: 0.8496 - val_loss: 0.5818 - val_accuracy: 0.8356\n",
            "Epoch 24/30\n",
            "557/557 [==============================] - 377s 677ms/step - loss: 0.5084 - accuracy: 0.8514 - val_loss: 0.5848 - val_accuracy: 0.8291\n",
            "Epoch 25/30\n",
            "557/557 [==============================] - 378s 679ms/step - loss: 0.4974 - accuracy: 0.8546 - val_loss: 0.5790 - val_accuracy: 0.8317\n",
            "Epoch 26/30\n",
            "557/557 [==============================] - 392s 704ms/step - loss: 0.4869 - accuracy: 0.8577 - val_loss: 0.5745 - val_accuracy: 0.8318\n",
            "Epoch 27/30\n",
            "557/557 [==============================] - 367s 659ms/step - loss: 0.4778 - accuracy: 0.8597 - val_loss: 0.5576 - val_accuracy: 0.8432\n",
            "Epoch 28/30\n",
            "557/557 [==============================] - 361s 648ms/step - loss: 0.4691 - accuracy: 0.8625 - val_loss: 0.5595 - val_accuracy: 0.8337\n",
            "Epoch 29/30\n",
            "557/557 [==============================] - 375s 673ms/step - loss: 0.4602 - accuracy: 0.8639 - val_loss: 0.5566 - val_accuracy: 0.8352\n",
            "Epoch 30/30\n",
            "557/557 [==============================] - 378s 679ms/step - loss: 0.4514 - accuracy: 0.8671 - val_loss: 0.5475 - val_accuracy: 0.8453\n"
          ]
        }
      ],
      "source": [
        "history = model.fit(X_train,y_train,batch_size=128,epochs=30,validation_data=(X_test,y_test),verbose=1)"
      ]
    },
    {
      "cell_type": "code",
      "execution_count": null,
      "metadata": {
        "id": "RomjgN2_O2bB"
      },
      "outputs": [],
      "source": [
        "model.save('/content/drive/MyDrive/Text_classification/Code_Built_Model/text_classification_neural.h5')"
      ]
    },
    {
      "cell_type": "code",
      "execution_count": null,
      "metadata": {
        "id": "86kkcmpoO3Of"
      },
      "outputs": [],
      "source": [
        "from tensorflow import keras\n",
        "model = keras.models.load_model('/content/drive/MyDrive/Text_classification/Code_Built_Model/text_classification_neural.h5')"
      ]
    },
    {
      "cell_type": "code",
      "source": [
        "score = model.evaluate(X_test,y_test,verbose=0)\n",
        "print('Sai số kiểm tra là: ',score[0])\n",
        "print('độ chính xác kiểm tra là: ',score[1])"
      ],
      "metadata": {
        "colab": {
          "base_uri": "https://localhost:8080/"
        },
        "id": "E7o4cOZx9pqr",
        "outputId": "631b722f-df6f-4331-c971-e54ba035a9a0"
      },
      "execution_count": null,
      "outputs": [
        {
          "output_type": "stream",
          "name": "stdout",
          "text": [
            "Sai số kiểm tra là:  0.5475361347198486\n",
            "độ chính xác kiểm tra là:  0.8452665209770203\n"
          ]
        }
      ]
    },
    {
      "cell_type": "code",
      "source": [
        "plt.plot(history.history['accuracy'])\n",
        "plt.plot(history.history['val_accuracy'])\n",
        "plt.title('Accuracy of Predict Type of Artical')\n",
        "plt.ylabel('Accuracy')\n",
        "plt.xlabel('Epoch')\n",
        "plt.legend(['Train','Validation'],loc='upper left')\n",
        "plt.show()"
      ],
      "metadata": {
        "colab": {
          "base_uri": "https://localhost:8080/",
          "height": 295
        },
        "id": "TNPWn3249xYK",
        "outputId": "b3ba96fa-0827-476b-94a6-41b3ee2b7811"
      },
      "execution_count": null,
      "outputs": [
        {
          "output_type": "display_data",
          "data": {
            "text/plain": [
              "<Figure size 432x288 with 1 Axes>"
            ],
            "image/png": "[encoded data removed]"
          },
          "metadata": {
            "needs_background": "light"
          }
        }
      ]
    },
    {
      "cell_type": "code",
      "source": [
        "plt.plot(history.history['loss'])\n",
        "plt.plot(history.history['val_loss'])\n",
        "plt.title('Loss of Predict Type of Artical')\n",
        "plt.ylabel('Loss')\n",
        "plt.xlabel('Epoch')\n",
        "plt.legend(['Train','Validation'],loc='upper left')\n",
        "plt.show()"
      ],
      "metadata": {
        "colab": {
          "base_uri": "https://localhost:8080/",
          "height": 295
        },
        "id": "r2X5qO6iGqnq",
        "outputId": "a27d71df-91c9-4637-c03d-9ae145a14223"
      },
      "execution_count": null,
      "outputs": [
        {
          "output_type": "display_data",
          "data": {
            "text/plain": [
              "<Figure size 432x288 with 1 Axes>"
            ],
            "image/png": "[encoded data removed]"
          },
          "metadata": {
            "needs_background": "light"
          }
        }
      ]
    },
    {
      "cell_type": "code",
      "source": [
        "y_test_plot = np.argmax(y_test, axis=1)"
      ],
      "metadata": {
        "id": "zgU6UvzDBTz6"
      },
      "execution_count": null,
      "outputs": []
    },
    {
      "cell_type": "code",
      "source": [
        "y_pred = []\n",
        "for i in X_test:\n",
        "  y_pred.append(np.argmax(model.predict(i.reshape(-1,max_num))))\n",
        "\n",
        "y_pred = np.array(y_pred)\n",
        "print(y_pred)"
      ],
      "metadata": {
        "colab": {
          "base_uri": "https://localhost:8080/"
        },
        "id": "JQpWeUO4wC9T",
        "outputId": "a9bfdc66-19c9-4f70-dd4c-7e2ea3e8eeb5"
      },
      "execution_count": null,
      "outputs": [
        {
          "output_type": "stream",
          "name": "stdout",
          "text": [
            "[2 5 7 ... 2 5 0]\n"
          ]
        }
      ]
    },
    {
      "cell_type": "code",
      "source": [
        "import pickle\n",
        "yplot_file = open(\"/content/drive/MyDrive/Text_classification/Code_Built_Model/y_test_plot.pkl\", \"wb\")\n",
        "pickle.dump(y_pred, yplot_file)\n",
        "yplot_file.close()"
      ],
      "metadata": {
        "id": "RkXYGf7Z4i_U"
      },
      "execution_count": null,
      "outputs": []
    },
    {
      "cell_type": "code",
      "source": [
        "import pickle\n",
        "dictfile = open(\"/content/drive/MyDrive/Text_classification/Code_Built_Model/y_test_plot.pkl\",'rb')\n",
        "y_pred = pickle.load(dictfile)\n",
        "dictfile.close()"
      ],
      "metadata": {
        "id": "DeOBZncX42Cb"
      },
      "execution_count": null,
      "outputs": []
    },
    {
      "cell_type": "code",
      "source": [
        "pred = X_train[52400].reshape(-1,max_num)\n",
        "model.predict(pred)"
      ],
      "metadata": {
        "colab": {
          "base_uri": "https://localhost:8080/"
        },
        "id": "bWzPPn7swmNy",
        "outputId": "7e519dae-9bbd-4094-eb42-4a56f80560b1"
      },
      "execution_count": null,
      "outputs": [
        {
          "output_type": "execute_result",
          "data": {
            "text/plain": [
              "array([[5.8764942e-02, 2.0142757e-06, 8.4945053e-04, 7.8529310e-06,\n",
              "        9.3490991e-05, 9.3994147e-01, 1.8135346e-05, 4.8143542e-05,\n",
              "        2.3499106e-04, 3.9529576e-05]], dtype=float32)"
            ]
          },
          "metadata": {},
          "execution_count": 9
        }
      ]
    },
    {
      "cell_type": "code",
      "source": [
        "from sklearn.metrics import confusion_matrix\n",
        "\n",
        "#Generate the confusion matrix\n",
        "cf_matrix = confusion_matrix(y_test_plot, y_pred)\n",
        "\n",
        "print(cf_matrix)"
      ],
      "metadata": {
        "colab": {
          "base_uri": "https://localhost:8080/"
        },
        "id": "i1LEwmK8pHLf",
        "outputId": "a908eb0f-563f-4379-c2d3-dd9710533d8b"
      },
      "execution_count": null,
      "outputs": [
        {
          "output_type": "stream",
          "name": "stdout",
          "text": [
            "[[ 962   39   53   27   59  104   15   24   13   25]\n",
            " [  13 1172    9   14   24    7    2   14    4   13]\n",
            " [  34   35  920   62   17   23   42   17   19  110]\n",
            " [  13   53   75  900   15    3   57   31   11   14]\n",
            " [  34   63   14    8 1110   21    3   39    8    3]\n",
            " [  47   16   24    1   28 1094    5   11   16    9]\n",
            " [  10   11   45   54    6    6 1107   12    5    7]\n",
            " [  17   25   25   31   29   13   14 1024    8   19]\n",
            " [   5    9   14    2    0    9    4   10 1155   12]\n",
            " [   8   14   65   14    1    6    6   17    5 1148]]\n"
          ]
        }
      ]
    },
    {
      "cell_type": "code",
      "source": [
        "import seaborn as sns\n",
        "plt.subplots(figsize = (15,13))\n",
        "group_counts = [\"{0:0.0f}\".format(value) for value in\n",
        "                cf_matrix.flatten()]\n",
        "\n",
        "group_percentages = [\"{0:.2%}\".format(value) for value in\n",
        "                     cf_matrix.flatten()/np.sum(cf_matrix)]\n",
        "\n",
        "labels = [f\"{v1}\\n{v2}\\n\" for v1, v2 in\n",
        "          zip(group_counts,group_percentages)]\n",
        "\n",
        "labels = np.asarray(labels).reshape(10,10)\n",
        "\n",
        "ax = sns.heatmap(cf_matrix, annot=labels, fmt='', cmap='Blues')\n",
        "\n",
        "ax.set_title('Seaborn Confusion Matrix with ' + str(len(X_test)) + ' Test samples\\n');\n",
        "ax.set_xlabel('\\nPredicted Type of Artical')\n",
        "ax.set_ylabel('Actual Type of Artical ');\n",
        "\n",
        "ax.xaxis.set_ticklabels(['Chính trị Xã hội','Công nghệ','Đời sống','Khoa học','Kinh doanh','Pháp luật','Sức khoẻ','Thế giới','Thể Thao','Văn hoá'])\n",
        "ax.yaxis.set_ticklabels(['Chính trị Xã hội','Công nghệ','Đời sống','Khoa học','Kinh doanh','Pháp luật','Sức khoẻ','Thế giới','Thể Thao','Văn hoá'])\n",
        "\n",
        "plt.show()"
      ],
      "metadata": {
        "colab": {
          "base_uri": "https://localhost:8080/",
          "height": 812
        },
        "id": "GJN6gYkb2Xgv",
        "outputId": "537843be-4350-4a42-bebe-abc033c94ae9"
      },
      "execution_count": null,
      "outputs": [
        {
          "output_type": "display_data",
          "data": {
            "text/plain": [
              "<Figure size 1080x936 with 2 Axes>"
            ],
            "image/png": "[encoded data removed]"
          },
          "metadata": {
            "needs_background": "light"
          }
        }
      ]
    },
    {
      "cell_type": "code",
      "execution_count": null,
      "metadata": {
        "id": "KYccTqKYVVEr"
      },
      "outputs": [],
      "source": [
        "#Chinh_tri_Xa_hoi: 0\n",
        "#Cong_Nghe: 1\n",
        "#Doi_song: 2\n",
        "#Khoa_hoc: 3\n",
        "#Kinh_doanh: 4\n",
        "#Phap_luat: 5\n",
        "#Suc_khoe:6\n",
        "#The_gioi: 7\n",
        "#The_thao: 8\n",
        "#Van_hoa: 9 (phim anh, âm nhac, giai tri)\n",
        "names=['Chính trị Xã hội','Công nghệ','Đời sống','Khoa học','Kinh doanh','Pháp luật','Sức khoẻ','Thế giới','Thể Thao','Văn hoá']"
      ]
    },
    {
      "cell_type": "code",
      "source": [
        "from sklearn.metrics import classification_report\n",
        "\n",
        "print(classification_report(y_test_plot,y_pred,target_names=names))"
      ],
      "metadata": {
        "colab": {
          "base_uri": "https://localhost:8080/"
        },
        "id": "9TF4N2GCARSQ",
        "outputId": "fceafdd8-9a74-45ad-e4e9-3b172db229ea"
      },
      "execution_count": null,
      "outputs": [
        {
          "output_type": "stream",
          "name": "stdout",
          "text": [
            "                  precision    recall  f1-score   support\n",
            "\n",
            "Chính trị Xã hội       0.84      0.73      0.78      1321\n",
            "       Công nghệ       0.82      0.92      0.87      1272\n",
            "        Đời sống       0.74      0.72      0.73      1279\n",
            "        Khoa học       0.81      0.77      0.79      1172\n",
            "      Kinh doanh       0.86      0.85      0.86      1303\n",
            "       Pháp luật       0.85      0.87      0.86      1251\n",
            "        Sức khoẻ       0.88      0.88      0.88      1263\n",
            "        Thế giới       0.85      0.85      0.85      1205\n",
            "        Thể Thao       0.93      0.95      0.94      1220\n",
            "         Văn hoá       0.84      0.89      0.87      1284\n",
            "\n",
            "        accuracy                           0.84     12570\n",
            "       macro avg       0.84      0.84      0.84     12570\n",
            "    weighted avg       0.84      0.84      0.84     12570\n",
            "\n"
          ]
        }
      ]
    },
    {
      "cell_type": "code",
      "execution_count": null,
      "metadata": {
        "id": "6_9gTLoNhWOK",
        "colab": {
          "base_uri": "https://localhost:8080/"
        },
        "outputId": "12b2759b-2f18-465c-e178-d3217ae3f28a"
      },
      "outputs": [
        {
          "output_type": "stream",
          "name": "stdout",
          "text": [
            "Thể Thao\n"
          ]
        }
      ],
      "source": [
        "test = \"FIFA từ ngày 1/7 sẽ cấm trường hợp như thủ môn Australia Andrew Redmayne nhảy khiêu khích tiền đạo Peru ở loạt đá luân lưu vớt World Cup 2022\"\n",
        "test = xuly(test).split()\n",
        "pred = []\n",
        "pred.append([word_dict[word] for word in test if word in word_dict])\n",
        "pred = sequence.pad_sequences(pred, max_num)\n",
        "pred_text = names[np.argmax(model.predict(pred))]\n",
        "print(pred_text)"
      ]
    },
    {
      "cell_type": "code",
      "source": [
        "plt.subplots(figsize = (14,6))\n",
        "pred_plot = model.predict(pred)\n",
        "pred_plot = pred_plot.reshape(-1,)*100\n",
        "plt.bar(names,pred_plot,color='red',width = 0.4)\n",
        "plt.title('Percent of each Type of Artical when Predict')\n",
        "plt.ylabel('Percent')\n",
        "plt.xlabel('Type of Artical')\n",
        "plt.show()"
      ],
      "metadata": {
        "colab": {
          "base_uri": "https://localhost:8080/",
          "height": 405
        },
        "id": "rHBd0tUXlvsv",
        "outputId": "abfa1a8d-9f36-4228-8584-610fa9e7f8c8"
      },
      "execution_count": null,
      "outputs": [
        {
          "output_type": "display_data",
          "data": {
            "text/plain": [
              "<Figure size 1008x432 with 1 Axes>"
            ],
            "image/png": "[encoded data removed]"
          },
          "metadata": {
            "needs_background": "light"
          }
        }
      ]
    },
    {
      "cell_type": "code",
      "execution_count": null,
      "metadata": {
        "colab": {
          "base_uri": "https://localhost:8080/",
          "height": 35
        },
        "id": "d0mVq9-bv_hd",
        "outputId": "2c794955-1345-4286-989d-e30991bc6243"
      },
      "outputs": [
        {
          "output_type": "execute_result",
          "data": {
            "text/plain": [
              "'Kinh doanh'"
            ],
            "application/vnd.google.colaboratory.intrinsic+json": {
              "type": "string"
            }
          },
          "metadata": {},
          "execution_count": 67
        }
      ],
      "source": [
        "import requests\n",
        "from bs4 import BeautifulSoup\n",
        "\n",
        "res = requests.get('https://vnexpress.net/cuoc-chien-chong-lam-phat-o-cac-nuoc-giau-4476731.html')\n",
        "res = str(res.text)\n",
        "soup = BeautifulSoup(res,\"html.parser\")\n",
        "title = soup.title.get_text()\n",
        "content = soup.meta['content']\n",
        "text = title + ' ' + content\n",
        "text = xuly(text).split()\n",
        "pred = []\n",
        "pred.append([word_dict[word] for word in text if word in word_dict])\n",
        "pred = sequence.pad_sequences(pred, max_num)\n",
        "names[np.argmax(model.predict(pred))]"
      ]
    },
    {
      "cell_type": "code",
      "source": [
        "plt.subplots(figsize = (14,6))\n",
        "pred_plot = model.predict(pred)\n",
        "pred_plot = pred_plot.reshape(-1,)*100\n",
        "plt.bar(names,pred_plot,color='red',width = 0.4)\n",
        "plt.title('Percent of each Type of Artical when Predict')\n",
        "plt.ylabel('Percent')\n",
        "plt.xlabel('Type of Artical')\n",
        "plt.show()"
      ],
      "metadata": {
        "colab": {
          "base_uri": "https://localhost:8080/",
          "height": 405
        },
        "id": "9hKFpgzEMb5u",
        "outputId": "10b4acb6-4a07-4aae-fc6b-bd7d7949b7ac"
      },
      "execution_count": null,
      "outputs": [
        {
          "output_type": "display_data",
          "data": {
            "text/plain": [
              "<Figure size 1008x432 with 1 Axes>"
            ],
            "image/png": "[encoded data removed]"
          },
          "metadata": {
            "needs_background": "light"
          }
        }
      ]
    }
  ],
  "metadata": {
    "colab": {
      "collapsed_sections": [],
      "name": "Artical_Classification_Dict.ipynb",
      "provenance": [],
      "mount_file_id": "1t6CTXJSu9W48HOaNGMi7LrQYDQjShDmj",
      "authorship_tag": "ABX9TyMQ6sPXCjXRmcSsk4eNovce",
      "include_colab_link": true
    },
    "kernelspec": {
      "display_name": "Python 3",
      "name": "python3"
    },
    "language_info": {
      "name": "python"
    }
  },
  "nbformat": 4,
  "nbformat_minor": 0
}